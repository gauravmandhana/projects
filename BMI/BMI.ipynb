{
 "cells": [
  {
   "cell_type": "markdown",
   "id": "3623007c",
   "metadata": {},
   "source": [
    "## BMI calculator using class\n"
   ]
  },
  {
   "cell_type": "code",
   "execution_count": 8,
   "id": "711ebd8a",
   "metadata": {},
   "outputs": [
    {
     "name": "stdout",
     "output_type": "stream",
     "text": [
      "abhi\n",
      "your bmi is:19.59\n"
     ]
    },
    {
     "data": {
      "text/plain": [
       "19.591836734693878"
      ]
     },
     "execution_count": 8,
     "metadata": {},
     "output_type": "execute_result"
    }
   ],
   "source": [
    "class bmi:\n",
    "    def __init__(self, name, height, weight):\n",
    "        self.name= name\n",
    "        self.weight= weight \n",
    "        self.height= height \n",
    "    def bmi_calculate(self):\n",
    "        bmi= weight / (height**2)\n",
    "        print(f\"{self.name}\\nyour bmi is:{bmi:.2f}\")\n",
    "        return bmi\n",
    "\n",
    "    def bmi_category(self):\n",
    "        bmi = self.bmi_calculate()\n",
    "        if bmi <18.5:\n",
    "            print(\"you are underweight.\")\n",
    "        elif 18.5 <= bmi < 25:      \n",
    "            print(\"your weight is normal.\")\n",
    "        elif 25 <=bmi < 30:\n",
    "            print(\"you are overweight.\")\n",
    "        else :\n",
    "            print(\"you are obese.\")\n",
    "\n",
    "name=input(\"enter your name: \")\n",
    "weight=float(input(\"enter your weight : \"))\n",
    "height=float(input(\"enter your height : \"))\n",
    "\n",
    "cal = bmi(name,height,weight)\n",
    "cal.bmi_calculate()"
   ]
  },
  {
   "cell_type": "code",
   "execution_count": 9,
   "id": "3167da7c",
   "metadata": {},
   "outputs": [
    {
     "name": "stdout",
     "output_type": "stream",
     "text": [
      "abhi\n",
      "your bmi is:19.59\n",
      "your weight is normal.\n"
     ]
    }
   ],
   "source": [
    "cal.bmi_category()"
   ]
  },
  {
   "cell_type": "code",
   "execution_count": null,
   "id": "ab9c29b0",
   "metadata": {},
   "outputs": [],
   "source": []
  }
 ],
 "metadata": {
  "kernelspec": {
   "display_name": "base",
   "language": "python",
   "name": "python3"
  },
  "language_info": {
   "codemirror_mode": {
    "name": "ipython",
    "version": 3
   },
   "file_extension": ".py",
   "mimetype": "text/x-python",
   "name": "python",
   "nbconvert_exporter": "python",
   "pygments_lexer": "ipython3",
   "version": "3.12.7"
  }
 },
 "nbformat": 4,
 "nbformat_minor": 5
}
