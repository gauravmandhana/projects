{
 "cells": [
  {
   "cell_type": "code",
   "execution_count": 1,
   "id": "365b9862",
   "metadata": {},
   "outputs": [
    {
     "name": "stdout",
     "output_type": "stream",
     "text": [
      "access successfuly done\n",
      "\n",
      "1. Check Balance\n",
      "2. Deposit\n",
      "3. Withdraw\n",
      "4. Exit\n",
      "Invalid option. Try again.\n",
      "\n",
      "1. Check Balance\n",
      "2. Deposit\n",
      "3. Withdraw\n",
      "4. Exit\n"
     ]
    },
    {
     "ename": "ValueError",
     "evalue": "invalid literal for int() with base 10: 'gaurav'",
     "output_type": "error",
     "traceback": [
      "\u001b[31m---------------------------------------------------------------------------\u001b[39m",
      "\u001b[31mValueError\u001b[39m                                Traceback (most recent call last)",
      "\u001b[36mCell\u001b[39m\u001b[36m \u001b[39m\u001b[32mIn[1]\u001b[39m\u001b[32m, line 59\u001b[39m\n\u001b[32m     56\u001b[39m atm=ATM(\u001b[32m500000\u001b[39m)\n\u001b[32m     58\u001b[39m \u001b[38;5;28;01mif\u001b[39;00m atm.authentication():\n\u001b[32m---> \u001b[39m\u001b[32m59\u001b[39m     \u001b[43matm\u001b[49m\u001b[43m.\u001b[49m\u001b[43moption\u001b[49m\u001b[43m(\u001b[49m\u001b[43m)\u001b[49m\n",
      "\u001b[36mCell\u001b[39m\u001b[36m \u001b[39m\u001b[32mIn[1]\u001b[39m\u001b[32m, line 42\u001b[39m, in \u001b[36mATM.option\u001b[39m\u001b[34m(self)\u001b[39m\n\u001b[32m     40\u001b[39m \u001b[38;5;28mprint\u001b[39m(\u001b[33m\"\u001b[39m\u001b[33m3. Withdraw\u001b[39m\u001b[33m\"\u001b[39m)\n\u001b[32m     41\u001b[39m \u001b[38;5;28mprint\u001b[39m(\u001b[33m\"\u001b[39m\u001b[33m4. Exit\u001b[39m\u001b[33m\"\u001b[39m)\n\u001b[32m---> \u001b[39m\u001b[32m42\u001b[39m choice = \u001b[38;5;28;43mint\u001b[39;49m\u001b[43m(\u001b[49m\u001b[38;5;28;43minput\u001b[39;49m\u001b[43m(\u001b[49m\u001b[33;43m\"\u001b[39;49m\u001b[33;43mChoose an option: \u001b[39;49m\u001b[33;43m\"\u001b[39;49m\u001b[43m)\u001b[49m\u001b[43m)\u001b[49m\n\u001b[32m     43\u001b[39m \u001b[38;5;28;01mif\u001b[39;00m choice == \u001b[32m1\u001b[39m:\n\u001b[32m     44\u001b[39m     \u001b[38;5;28mself\u001b[39m.check_balance()\n",
      "\u001b[31mValueError\u001b[39m: invalid literal for int() with base 10: 'gaurav'"
     ]
    }
   ],
   "source": [
    "class ATM:\n",
    "    def __init__(self,balance):\n",
    "        self.balance= balance\n",
    "        self.pin= \"1325\"\n",
    "\n",
    "    def authentication(self):\n",
    "        entered_pin= input(\"enter 4 digit pin: \")\n",
    "        if entered_pin == self.pin:\n",
    "            print(\"access successfuly done\")\n",
    "            return True\n",
    "        else:\n",
    "            print(\"incorrect pin. access denied\")\n",
    "        exit\n",
    "          \n",
    "    def deposit(self):\n",
    "        amount=float(input(\"enter the deposit:\"))\n",
    "        if amount > 0:\n",
    "            self.balance+=amount\n",
    "            print(f\"deposit successfully {amount:.2f}\")\n",
    "\n",
    "\n",
    "        else:\n",
    "            print(\"invalid deposit amount\")\n",
    "\n",
    "    def withdraw(self):\n",
    "        amount =float(input(\"enter the withdraw:\"))\n",
    "        if amount<=self.balance:\n",
    "            self.balance-= amount\n",
    "            print(f\"withdraw successfully done {amount:.2f}\")\n",
    "        else:\n",
    "            print(\"insufficient balance \")\n",
    "        \n",
    "    def check_balance(self):\n",
    "        print(f\"current balance is {self.balance:.2f}\")\n",
    "\n",
    "    def option(self):\n",
    "        while True:\n",
    "            print(\"\\n1. Check Balance\")\n",
    "            print(\"2. Deposit\")\n",
    "            print(\"3. Withdraw\")\n",
    "            print(\"4. Exit\")\n",
    "            choice = int(input(\"Choose an option: \"))\n",
    "            if choice == 1:\n",
    "                self.check_balance()\n",
    "            elif choice == 2:\n",
    "                self.deposit()\n",
    "            elif choice == 3:\n",
    "                self.withdraw()\n",
    "            elif choice == 4:\n",
    "                print(\"Thank you for using the ATM.\")\n",
    "                break\n",
    "            else:\n",
    "                print(\"Invalid option. Try again.\")\n",
    "\n",
    "\n",
    "atm=ATM(500000)\n",
    "\n",
    "if atm.authentication():\n",
    "    atm.option()"
   ]
  },
  {
   "cell_type": "code",
   "execution_count": null,
   "id": "ada292f9",
   "metadata": {},
   "outputs": [],
   "source": []
  },
  {
   "cell_type": "code",
   "execution_count": null,
   "id": "304406d6",
   "metadata": {},
   "outputs": [],
   "source": []
  }
 ],
 "metadata": {
  "kernelspec": {
   "display_name": "Python 3",
   "language": "python",
   "name": "python3"
  },
  "language_info": {
   "codemirror_mode": {
    "name": "ipython",
    "version": 3
   },
   "file_extension": ".py",
   "mimetype": "text/x-python",
   "name": "python",
   "nbconvert_exporter": "python",
   "pygments_lexer": "ipython3",
   "version": "3.13.3"
  }
 },
 "nbformat": 4,
 "nbformat_minor": 5
}
